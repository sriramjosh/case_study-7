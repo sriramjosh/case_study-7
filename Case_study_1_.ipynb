{
 "cells": [
  {
   "cell_type": "markdown",
   "id": "7847d6e5",
   "metadata": {},
   "source": [
    "# Introduction\n",
    "Anny seriously loves Japanese food so in the beginning of 2021, he decides to embark upon a risky venture and opens up a cute little restaurant that sells his 3 favourite foods: **sushi, curry and ramen.**\n",
    "\n",
    "Anny’s Diner is in need of your assistance to help the restaurant stay afloat - the restaurant has captured some very basic data from their few months of operation but have no idea how to use their data to help them run the business.\n",
    "\n",
    "## Problem_statement\n",
    "Anny wants to use the data to answer a few simple questions about his customers, especially about their visiting patterns, how much money they’ve spent and also which menu items are their favourite. Having this deeper connection with his customers will help him deliver a better and more personalised experience for his loyal customers.\n",
    "\n",
    "He plans on using these insights to help him decide whether he should expand the existing customer loyalty program - additionally he needs help to generate some basic datasets so his team can easily inspect the data without needing to use SQL.\n",
    "\n",
    "Danny has provided you with a sample of his overall customer data due to privacy issues - but he hopes that these examples are enough for you to write fully functioning pandas code  to help him answer his questions!\n",
    "\n",
    "Anny has shared with you 3 key datasets for this case study:\n",
    "\n",
    "- sales\n",
    "- menu\n",
    "- members"
   ]
  },
  {
   "cell_type": "code",
   "execution_count": 1,
   "id": "851fb7ad",
   "metadata": {},
   "outputs": [],
   "source": [
    "import pandas as pd\n",
    "import numpy as np\n"
   ]
  },
  {
   "cell_type": "code",
   "execution_count": 7,
   "id": "e34e8bdb",
   "metadata": {},
   "outputs": [
    {
     "data": {
      "text/html": [
       "<div>\n",
       "<style scoped>\n",
       "    .dataframe tbody tr th:only-of-type {\n",
       "        vertical-align: middle;\n",
       "    }\n",
       "\n",
       "    .dataframe tbody tr th {\n",
       "        vertical-align: top;\n",
       "    }\n",
       "\n",
       "    .dataframe thead th {\n",
       "        text-align: right;\n",
       "    }\n",
       "</style>\n",
       "<table border=\"1\" class=\"dataframe\">\n",
       "  <thead>\n",
       "    <tr style=\"text-align: right;\">\n",
       "      <th></th>\n",
       "      <th>customer_id</th>\n",
       "      <th>order_date</th>\n",
       "      <th>product_id</th>\n",
       "    </tr>\n",
       "  </thead>\n",
       "  <tbody>\n",
       "    <tr>\n",
       "      <th>0</th>\n",
       "      <td>A</td>\n",
       "      <td>2021-01-01</td>\n",
       "      <td>1</td>\n",
       "    </tr>\n",
       "    <tr>\n",
       "      <th>1</th>\n",
       "      <td>A</td>\n",
       "      <td>2021-01-01</td>\n",
       "      <td>2</td>\n",
       "    </tr>\n",
       "    <tr>\n",
       "      <th>2</th>\n",
       "      <td>A</td>\n",
       "      <td>2021-01-07</td>\n",
       "      <td>2</td>\n",
       "    </tr>\n",
       "    <tr>\n",
       "      <th>3</th>\n",
       "      <td>A</td>\n",
       "      <td>2021-01-10</td>\n",
       "      <td>3</td>\n",
       "    </tr>\n",
       "    <tr>\n",
       "      <th>4</th>\n",
       "      <td>A</td>\n",
       "      <td>2021-01-11</td>\n",
       "      <td>3</td>\n",
       "    </tr>\n",
       "    <tr>\n",
       "      <th>5</th>\n",
       "      <td>A</td>\n",
       "      <td>2021-01-11</td>\n",
       "      <td>3</td>\n",
       "    </tr>\n",
       "    <tr>\n",
       "      <th>6</th>\n",
       "      <td>B</td>\n",
       "      <td>2021-01-01</td>\n",
       "      <td>2</td>\n",
       "    </tr>\n",
       "    <tr>\n",
       "      <th>7</th>\n",
       "      <td>B</td>\n",
       "      <td>2021-01-02</td>\n",
       "      <td>2</td>\n",
       "    </tr>\n",
       "    <tr>\n",
       "      <th>8</th>\n",
       "      <td>B</td>\n",
       "      <td>2021-01-04</td>\n",
       "      <td>1</td>\n",
       "    </tr>\n",
       "    <tr>\n",
       "      <th>9</th>\n",
       "      <td>B</td>\n",
       "      <td>2021-01-11</td>\n",
       "      <td>1</td>\n",
       "    </tr>\n",
       "  </tbody>\n",
       "</table>\n",
       "</div>"
      ],
      "text/plain": [
       "  customer_id  order_date  product_id\n",
       "0           A  2021-01-01           1\n",
       "1           A  2021-01-01           2\n",
       "2           A  2021-01-07           2\n",
       "3           A  2021-01-10           3\n",
       "4           A  2021-01-11           3\n",
       "5           A  2021-01-11           3\n",
       "6           B  2021-01-01           2\n",
       "7           B  2021-01-02           2\n",
       "8           B  2021-01-04           1\n",
       "9           B  2021-01-11           1"
      ]
     },
     "execution_count": 7,
     "metadata": {},
     "output_type": "execute_result"
    }
   ],
   "source": [
    "sales = pd.read_csv(r\"C:\\Users\\srira\\Downloads\\sales.csv\")\n",
    "sales\n",
    "sales.head(10)"
   ]
  },
  {
   "cell_type": "code",
   "execution_count": 5,
   "id": "c8736b6e",
   "metadata": {},
   "outputs": [
    {
     "data": {
      "text/html": [
       "<div>\n",
       "<style scoped>\n",
       "    .dataframe tbody tr th:only-of-type {\n",
       "        vertical-align: middle;\n",
       "    }\n",
       "\n",
       "    .dataframe tbody tr th {\n",
       "        vertical-align: top;\n",
       "    }\n",
       "\n",
       "    .dataframe thead th {\n",
       "        text-align: right;\n",
       "    }\n",
       "</style>\n",
       "<table border=\"1\" class=\"dataframe\">\n",
       "  <thead>\n",
       "    <tr style=\"text-align: right;\">\n",
       "      <th></th>\n",
       "      <th>product_id</th>\n",
       "      <th>product_name</th>\n",
       "      <th>price</th>\n",
       "    </tr>\n",
       "  </thead>\n",
       "  <tbody>\n",
       "    <tr>\n",
       "      <th>0</th>\n",
       "      <td>1</td>\n",
       "      <td>sushi</td>\n",
       "      <td>10</td>\n",
       "    </tr>\n",
       "    <tr>\n",
       "      <th>1</th>\n",
       "      <td>2</td>\n",
       "      <td>curry</td>\n",
       "      <td>15</td>\n",
       "    </tr>\n",
       "    <tr>\n",
       "      <th>2</th>\n",
       "      <td>3</td>\n",
       "      <td>ramen</td>\n",
       "      <td>12</td>\n",
       "    </tr>\n",
       "  </tbody>\n",
       "</table>\n",
       "</div>"
      ],
      "text/plain": [
       "   product_id product_name  price\n",
       "0           1        sushi     10\n",
       "1           2        curry     15\n",
       "2           3        ramen     12"
      ]
     },
     "execution_count": 5,
     "metadata": {},
     "output_type": "execute_result"
    }
   ],
   "source": [
    "menu = pd.read_csv(r\"C:\\Users\\srira\\Downloads\\menu (1).csv\")\n",
    "menu"
   ]
  },
  {
   "cell_type": "code",
   "execution_count": 6,
   "id": "26eaee00",
   "metadata": {},
   "outputs": [
    {
     "data": {
      "text/html": [
       "<div>\n",
       "<style scoped>\n",
       "    .dataframe tbody tr th:only-of-type {\n",
       "        vertical-align: middle;\n",
       "    }\n",
       "\n",
       "    .dataframe tbody tr th {\n",
       "        vertical-align: top;\n",
       "    }\n",
       "\n",
       "    .dataframe thead th {\n",
       "        text-align: right;\n",
       "    }\n",
       "</style>\n",
       "<table border=\"1\" class=\"dataframe\">\n",
       "  <thead>\n",
       "    <tr style=\"text-align: right;\">\n",
       "      <th></th>\n",
       "      <th>customer_id</th>\n",
       "      <th>join_date</th>\n",
       "    </tr>\n",
       "  </thead>\n",
       "  <tbody>\n",
       "    <tr>\n",
       "      <th>0</th>\n",
       "      <td>A</td>\n",
       "      <td>2021-01-07</td>\n",
       "    </tr>\n",
       "    <tr>\n",
       "      <th>1</th>\n",
       "      <td>B</td>\n",
       "      <td>2021-01-09</td>\n",
       "    </tr>\n",
       "  </tbody>\n",
       "</table>\n",
       "</div>"
      ],
      "text/plain": [
       "  customer_id   join_date\n",
       "0           A  2021-01-07\n",
       "1           B  2021-01-09"
      ]
     },
     "execution_count": 6,
     "metadata": {},
     "output_type": "execute_result"
    }
   ],
   "source": [
    "members = pd.read_csv(r\"C:\\Users\\srira\\Downloads\\members (1).csv\")\n",
    "members"
   ]
  },
  {
   "cell_type": "markdown",
   "id": "0213842c",
   "metadata": {},
   "source": [
    "### 3.Explore the details of all datasets by checking their information."
   ]
  },
  {
   "cell_type": "code",
   "execution_count": 13,
   "id": "07d5c937",
   "metadata": {},
   "outputs": [
    {
     "name": "stdout",
     "output_type": "stream",
     "text": [
      "<class 'pandas.core.frame.DataFrame'>\n",
      "RangeIndex: 15 entries, 0 to 14\n",
      "Data columns (total 3 columns):\n",
      " #   Column       Non-Null Count  Dtype \n",
      "---  ------       --------------  ----- \n",
      " 0   customer_id  15 non-null     object\n",
      " 1   order_date   15 non-null     object\n",
      " 2   product_id   15 non-null     int64 \n",
      "dtypes: int64(1), object(2)\n",
      "memory usage: 492.0+ bytes\n"
     ]
    }
   ],
   "source": [
    "sales.info()"
   ]
  },
  {
   "cell_type": "code",
   "execution_count": 9,
   "id": "187180cb",
   "metadata": {},
   "outputs": [
    {
     "name": "stdout",
     "output_type": "stream",
     "text": [
      "<class 'pandas.core.frame.DataFrame'>\n",
      "RangeIndex: 3 entries, 0 to 2\n",
      "Data columns (total 3 columns):\n",
      " #   Column        Non-Null Count  Dtype \n",
      "---  ------        --------------  ----- \n",
      " 0   product_id    3 non-null      int64 \n",
      " 1   product_name  3 non-null      object\n",
      " 2   price         3 non-null      int64 \n",
      "dtypes: int64(2), object(1)\n",
      "memory usage: 204.0+ bytes\n"
     ]
    }
   ],
   "source": [
    "menu.info()"
   ]
  },
  {
   "cell_type": "code",
   "execution_count": 12,
   "id": "3abbe7b6",
   "metadata": {},
   "outputs": [
    {
     "name": "stdout",
     "output_type": "stream",
     "text": [
      "<class 'pandas.core.frame.DataFrame'>\n",
      "RangeIndex: 2 entries, 0 to 1\n",
      "Data columns (total 2 columns):\n",
      " #   Column       Non-Null Count  Dtype \n",
      "---  ------       --------------  ----- \n",
      " 0   customer_id  2 non-null      object\n",
      " 1   join_date    2 non-null      object\n",
      "dtypes: object(2)\n",
      "memory usage: 164.0+ bytes\n"
     ]
    }
   ],
   "source": [
    "members.info()"
   ]
  },
  {
   "cell_type": "code",
   "execution_count": 16,
   "id": "aa63ada4",
   "metadata": {},
   "outputs": [
    {
     "data": {
      "text/plain": [
       "customer_id    object\n",
       "order_date     object\n",
       "product_id      int64\n",
       "dtype: object"
      ]
     },
     "execution_count": 16,
     "metadata": {},
     "output_type": "execute_result"
    }
   ],
   "source": [
    "sales.dtypes"
   ]
  },
  {
   "cell_type": "code",
   "execution_count": 18,
   "id": "53f416db",
   "metadata": {},
   "outputs": [
    {
     "data": {
      "text/plain": [
       "product_id       int64\n",
       "product_name    object\n",
       "price            int64\n",
       "dtype: object"
      ]
     },
     "execution_count": 18,
     "metadata": {},
     "output_type": "execute_result"
    }
   ],
   "source": [
    "menu.dtypes"
   ]
  },
  {
   "cell_type": "code",
   "execution_count": 19,
   "id": "27e45fa6",
   "metadata": {},
   "outputs": [
    {
     "data": {
      "text/plain": [
       "customer_id    object\n",
       "join_date      object\n",
       "dtype: object"
      ]
     },
     "execution_count": 19,
     "metadata": {},
     "output_type": "execute_result"
    }
   ],
   "source": [
    "members.dtypes"
   ]
  },
  {
   "cell_type": "code",
   "execution_count": 21,
   "id": "d79af7b5",
   "metadata": {},
   "outputs": [
    {
     "data": {
      "text/plain": [
       "0    2021-01-01\n",
       "1    2021-01-01\n",
       "2    2021-01-07\n",
       "3    2021-01-10\n",
       "4    2021-01-11\n",
       "5    2021-01-11\n",
       "6    2021-01-01\n",
       "7    2021-01-02\n",
       "8    2021-01-04\n",
       "9    2021-01-11\n",
       "10   2021-01-16\n",
       "11   2021-02-01\n",
       "12   2021-01-01\n",
       "13   2021-01-01\n",
       "14   2021-01-07\n",
       "Name: order_date, dtype: datetime64[ns]"
      ]
     },
     "execution_count": 21,
     "metadata": {},
     "output_type": "execute_result"
    }
   ],
   "source": [
    "pf =sales['order_date'] = pd.to_datetime(sales['order_date'])\n",
    "pf"
   ]
  },
  {
   "cell_type": "code",
   "execution_count": 23,
   "id": "9df6e446",
   "metadata": {},
   "outputs": [
    {
     "data": {
      "text/plain": [
       "0   2021-01-07\n",
       "1   2021-01-09\n",
       "Name: join_date, dtype: datetime64[ns]"
      ]
     },
     "execution_count": 23,
     "metadata": {},
     "output_type": "execute_result"
    }
   ],
   "source": [
    "ss = members['join_date'] = pd.to_datetime(members['join_date'])\n",
    "ss"
   ]
  },
  {
   "cell_type": "markdown",
   "id": "b7dfceae",
   "metadata": {},
   "source": [
    "### 4.Make sure that each type of information (like numbers or dates) is stored in the correct way. This helps ensure that the data is accurate and ready for analysis, making your work more reliable and meaningful"
   ]
  },
  {
   "cell_type": "code",
   "execution_count": 33,
   "id": "20ea46a6",
   "metadata": {},
   "outputs": [
    {
     "data": {
      "text/html": [
       "<div>\n",
       "<style scoped>\n",
       "    .dataframe tbody tr th:only-of-type {\n",
       "        vertical-align: middle;\n",
       "    }\n",
       "\n",
       "    .dataframe tbody tr th {\n",
       "        vertical-align: top;\n",
       "    }\n",
       "\n",
       "    .dataframe thead th {\n",
       "        text-align: right;\n",
       "    }\n",
       "</style>\n",
       "<table border=\"1\" class=\"dataframe\">\n",
       "  <thead>\n",
       "    <tr style=\"text-align: right;\">\n",
       "      <th></th>\n",
       "      <th>customer_id</th>\n",
       "      <th>order_date</th>\n",
       "      <th>product_id</th>\n",
       "      <th>product_name</th>\n",
       "      <th>price</th>\n",
       "      <th>join_date</th>\n",
       "    </tr>\n",
       "  </thead>\n",
       "  <tbody>\n",
       "    <tr>\n",
       "      <th>0</th>\n",
       "      <td>A</td>\n",
       "      <td>2021-01-01</td>\n",
       "      <td>1</td>\n",
       "      <td>sushi</td>\n",
       "      <td>10</td>\n",
       "      <td>2021-01-07</td>\n",
       "    </tr>\n",
       "    <tr>\n",
       "      <th>1</th>\n",
       "      <td>A</td>\n",
       "      <td>2021-01-01</td>\n",
       "      <td>2</td>\n",
       "      <td>curry</td>\n",
       "      <td>15</td>\n",
       "      <td>2021-01-07</td>\n",
       "    </tr>\n",
       "    <tr>\n",
       "      <th>2</th>\n",
       "      <td>A</td>\n",
       "      <td>2021-01-07</td>\n",
       "      <td>2</td>\n",
       "      <td>curry</td>\n",
       "      <td>15</td>\n",
       "      <td>2021-01-07</td>\n",
       "    </tr>\n",
       "    <tr>\n",
       "      <th>3</th>\n",
       "      <td>A</td>\n",
       "      <td>2021-01-10</td>\n",
       "      <td>3</td>\n",
       "      <td>ramen</td>\n",
       "      <td>12</td>\n",
       "      <td>2021-01-07</td>\n",
       "    </tr>\n",
       "    <tr>\n",
       "      <th>4</th>\n",
       "      <td>A</td>\n",
       "      <td>2021-01-11</td>\n",
       "      <td>3</td>\n",
       "      <td>ramen</td>\n",
       "      <td>12</td>\n",
       "      <td>2021-01-07</td>\n",
       "    </tr>\n",
       "    <tr>\n",
       "      <th>5</th>\n",
       "      <td>A</td>\n",
       "      <td>2021-01-11</td>\n",
       "      <td>3</td>\n",
       "      <td>ramen</td>\n",
       "      <td>12</td>\n",
       "      <td>2021-01-07</td>\n",
       "    </tr>\n",
       "    <tr>\n",
       "      <th>6</th>\n",
       "      <td>B</td>\n",
       "      <td>2021-01-01</td>\n",
       "      <td>2</td>\n",
       "      <td>curry</td>\n",
       "      <td>15</td>\n",
       "      <td>2021-01-09</td>\n",
       "    </tr>\n",
       "    <tr>\n",
       "      <th>7</th>\n",
       "      <td>B</td>\n",
       "      <td>2021-01-02</td>\n",
       "      <td>2</td>\n",
       "      <td>curry</td>\n",
       "      <td>15</td>\n",
       "      <td>2021-01-09</td>\n",
       "    </tr>\n",
       "    <tr>\n",
       "      <th>8</th>\n",
       "      <td>B</td>\n",
       "      <td>2021-01-04</td>\n",
       "      <td>1</td>\n",
       "      <td>sushi</td>\n",
       "      <td>10</td>\n",
       "      <td>2021-01-09</td>\n",
       "    </tr>\n",
       "    <tr>\n",
       "      <th>9</th>\n",
       "      <td>B</td>\n",
       "      <td>2021-01-11</td>\n",
       "      <td>1</td>\n",
       "      <td>sushi</td>\n",
       "      <td>10</td>\n",
       "      <td>2021-01-09</td>\n",
       "    </tr>\n",
       "    <tr>\n",
       "      <th>10</th>\n",
       "      <td>B</td>\n",
       "      <td>2021-01-16</td>\n",
       "      <td>3</td>\n",
       "      <td>ramen</td>\n",
       "      <td>12</td>\n",
       "      <td>2021-01-09</td>\n",
       "    </tr>\n",
       "    <tr>\n",
       "      <th>11</th>\n",
       "      <td>B</td>\n",
       "      <td>2021-02-01</td>\n",
       "      <td>3</td>\n",
       "      <td>ramen</td>\n",
       "      <td>12</td>\n",
       "      <td>2021-01-09</td>\n",
       "    </tr>\n",
       "    <tr>\n",
       "      <th>12</th>\n",
       "      <td>C</td>\n",
       "      <td>2021-01-01</td>\n",
       "      <td>3</td>\n",
       "      <td>ramen</td>\n",
       "      <td>12</td>\n",
       "      <td>NaT</td>\n",
       "    </tr>\n",
       "    <tr>\n",
       "      <th>13</th>\n",
       "      <td>C</td>\n",
       "      <td>2021-01-01</td>\n",
       "      <td>3</td>\n",
       "      <td>ramen</td>\n",
       "      <td>12</td>\n",
       "      <td>NaT</td>\n",
       "    </tr>\n",
       "    <tr>\n",
       "      <th>14</th>\n",
       "      <td>C</td>\n",
       "      <td>2021-01-07</td>\n",
       "      <td>3</td>\n",
       "      <td>ramen</td>\n",
       "      <td>12</td>\n",
       "      <td>NaT</td>\n",
       "    </tr>\n",
       "  </tbody>\n",
       "</table>\n",
       "</div>"
      ],
      "text/plain": [
       "   customer_id order_date  product_id product_name  price  join_date\n",
       "0            A 2021-01-01           1        sushi     10 2021-01-07\n",
       "1            A 2021-01-01           2        curry     15 2021-01-07\n",
       "2            A 2021-01-07           2        curry     15 2021-01-07\n",
       "3            A 2021-01-10           3        ramen     12 2021-01-07\n",
       "4            A 2021-01-11           3        ramen     12 2021-01-07\n",
       "5            A 2021-01-11           3        ramen     12 2021-01-07\n",
       "6            B 2021-01-01           2        curry     15 2021-01-09\n",
       "7            B 2021-01-02           2        curry     15 2021-01-09\n",
       "8            B 2021-01-04           1        sushi     10 2021-01-09\n",
       "9            B 2021-01-11           1        sushi     10 2021-01-09\n",
       "10           B 2021-01-16           3        ramen     12 2021-01-09\n",
       "11           B 2021-02-01           3        ramen     12 2021-01-09\n",
       "12           C 2021-01-01           3        ramen     12        NaT\n",
       "13           C 2021-01-01           3        ramen     12        NaT\n",
       "14           C 2021-01-07           3        ramen     12        NaT"
      ]
     },
     "execution_count": 33,
     "metadata": {},
     "output_type": "execute_result"
    }
   ],
   "source": [
    "merge = pd.merge(sales,menu, on ='product_id', how = 'left')\n",
    "merge = pd.merge(merge,members, on ='customer_id',how = 'left')\n",
    "merge"
   ]
  },
  {
   "cell_type": "markdown",
   "id": "dc8a5304",
   "metadata": {},
   "source": [
    "#### What is the total amount each customer spent at the restaurant?"
   ]
  },
  {
   "cell_type": "code",
   "execution_count": 41,
   "id": "adfd2520",
   "metadata": {},
   "outputs": [
    {
     "data": {
      "text/plain": [
       "customer_id\n",
       "A    76\n",
       "B    74\n",
       "C    36\n",
       "Name: price, dtype: int64"
      ]
     },
     "execution_count": 41,
     "metadata": {},
     "output_type": "execute_result"
    }
   ],
   "source": [
    "totalspend_of_customer = merge.groupby('customer_id')['price'].sum()\n",
    "totalspend_of_customer"
   ]
  },
  {
   "cell_type": "markdown",
   "id": "8531686e",
   "metadata": {},
   "source": [
    "### How many days has each customer visited the restaurant?¶"
   ]
  },
  {
   "cell_type": "code",
   "execution_count": 45,
   "id": "06f78c25",
   "metadata": {},
   "outputs": [
    {
     "data": {
      "text/plain": [
       "customer_id\n",
       "A    [2021-01-01 00:00:00, 2021-01-07 00:00:00, 202...\n",
       "B    [2021-01-01 00:00:00, 2021-01-02 00:00:00, 202...\n",
       "C           [2021-01-01 00:00:00, 2021-01-07 00:00:00]\n",
       "Name: order_date, dtype: object"
      ]
     },
     "execution_count": 45,
     "metadata": {},
     "output_type": "execute_result"
    }
   ],
   "source": [
    "days_visited_by_customer = merge.groupby('customer_id')['order_date'].unique()\n",
    "days_visited_by_customer "
   ]
  },
  {
   "cell_type": "markdown",
   "id": "7252307b",
   "metadata": {},
   "source": [
    "#### What was the first item from the menu purchased by each customer?"
   ]
  },
  {
   "cell_type": "code",
   "execution_count": 47,
   "id": "1202ccf0",
   "metadata": {},
   "outputs": [
    {
     "data": {
      "text/plain": [
       "customer_id\n",
       "A    sushi\n",
       "B    curry\n",
       "C    ramen\n",
       "Name: product_name, dtype: object"
      ]
     },
     "execution_count": 47,
     "metadata": {},
     "output_type": "execute_result"
    }
   ],
   "source": [
    "first_item_perched_by_customer = merge.groupby('customer_id')['product_name'].first()\n",
    "first_item_perched_by_customer"
   ]
  },
  {
   "cell_type": "markdown",
   "id": "01476b82",
   "metadata": {},
   "source": [
    "##### What is the most purchased item on the menu and how many times was it purchased by all customers?"
   ]
  },
  {
   "cell_type": "code",
   "execution_count": 62,
   "id": "3f67866d",
   "metadata": {},
   "outputs": [
    {
     "name": "stdout",
     "output_type": "stream",
     "text": [
      "\n",
      "Most Purchased Item on the Menu:\n",
      "Product Name: ramen\n",
      "Count: 8\n"
     ]
    }
   ],
   "source": [
    "most_purchased_item = merge['product_name'].value_counts().idxmax()\n",
    "count_most_purchased_item = merge['product_name'].value_counts().max()\n",
    "print(\"\\nMost Purchased Item on the Menu:\")\n",
    "print(\"Product Name:\", most_purchased_item)\n",
    "print(\"Count:\", count_most_purchased_item)"
   ]
  },
  {
   "cell_type": "markdown",
   "id": "d11e27f9",
   "metadata": {},
   "source": [
    "### .Which item was the most popular for each customer?"
   ]
  },
  {
   "cell_type": "code",
   "execution_count": 65,
   "id": "3d0bd446",
   "metadata": {},
   "outputs": [
    {
     "data": {
      "text/plain": [
       "customer_id\n",
       "A    (A, ramen)\n",
       "B    (B, curry)\n",
       "C    (C, ramen)\n",
       "Name: count, dtype: object"
      ]
     },
     "execution_count": 65,
     "metadata": {},
     "output_type": "execute_result"
    }
   ],
   "source": [
    "most_popular_of_customer = merge.groupby('customer_id')['product_name'].value_counts().groupby('customer_id').idxmax()\n",
    "most_popular_of_customer "
   ]
  },
  {
   "cell_type": "markdown",
   "id": "008f8e8a",
   "metadata": {},
   "source": [
    "#### Which item was purchased first by the customer after they became a member?"
   ]
  },
  {
   "cell_type": "code",
   "execution_count": 69,
   "id": "51a6f068",
   "metadata": {},
   "outputs": [
    {
     "data": {
      "text/plain": [
       "customer_id\n",
       "A    curry\n",
       "B    sushi\n",
       "Name: product_name, dtype: object"
      ]
     },
     "execution_count": 69,
     "metadata": {},
     "output_type": "execute_result"
    }
   ],
   "source": [
    "first_purchase_after_join = (merge[merge['order_date'] >= merge['join_date']]\n",
    "                             .groupby('customer_id')['product_name'].first())\n",
    "\n",
    "first_purchase_after_join"
   ]
  },
  {
   "cell_type": "code",
   "execution_count": 71,
   "id": "9d6d9581",
   "metadata": {},
   "outputs": [
    {
     "name": "stdout",
     "output_type": "stream",
     "text": [
      "\n",
      "Total Items and Amount Spent for Each Member Before Joining:\n",
      "             product_name  price\n",
      "customer_id                     \n",
      "A                       2     25\n",
      "B                       3     40\n"
     ]
    }
   ],
   "source": [
    "total_items_amount_before_join = (merge[merge['order_date'] < merge['join_date']]\n",
    "                                  .groupby('customer_id').agg({'product_name': 'count', 'price': 'sum'}))\n",
    "print(\"\\nTotal Items and Amount Spent for Each Member Before Joining:\")\n",
    "print(total_items_amount_before_join)"
   ]
  },
  {
   "cell_type": "markdown",
   "id": "1c530d1f",
   "metadata": {},
   "source": [
    "#### If each $1 spent equates to 10 points and sushi has a 2x points multiplier - how many points would each customer have?¶"
   ]
  },
  {
   "cell_type": "code",
   "execution_count": 73,
   "id": "a2e582af",
   "metadata": {},
   "outputs": [
    {
     "name": "stdout",
     "output_type": "stream",
     "text": [
      "\n",
      "Total Points for Each Customer:\n",
      "customer_id\n",
      "A    860\n",
      "B    940\n",
      "C    360\n",
      "Name: points, dtype: int64\n"
     ]
    }
   ],
   "source": [
    "merge['points'] = merge['price'] * 10\n",
    "merge.loc[merge['product_name'] == 'sushi', 'points'] *= 2\n",
    "\n",
    "total_points_by_customer = merge.groupby('customer_id')['points'].sum()\n",
    "print(\"\\nTotal Points for Each Customer:\")\n",
    "print(total_points_by_customer)"
   ]
  },
  {
   "cell_type": "markdown",
   "id": "32444624",
   "metadata": {},
   "source": [
    "\n",
    "### 10.In the first week after a customer joins the program (including their join date) they earn 2x points on all items, not just sushi - how many points do customer A and B have at the end of January?\n"
   ]
  },
  {
   "cell_type": "code",
   "execution_count": 75,
   "id": "24ea7cda",
   "metadata": {},
   "outputs": [
    {
     "name": "stdout",
     "output_type": "stream",
     "text": [
      "\n",
      "Points for Customer A in the First Week After Joining: 510\n",
      "Points for Customer B in the First Week After Joining: 200\n"
     ]
    }
   ],
   "source": [
    "joined_first_week_points = merge[(merge['order_date'] >= merge['join_date']) &\n",
    "                                     (merge['order_date'] <= merge['join_date'] +\n",
    "                                      pd.Timedelta(days=6))]['points']\n",
    "total_points_customer_A = joined_first_week_points[merge['customer_id'] == 'A'].sum()\n",
    "total_points_customer_B = joined_first_week_points[merge['customer_id'] == 'B'].sum()\n",
    "\n",
    "print(\"\\nPoints for Customer A in the First Week After Joining:\", total_points_customer_A)\n",
    "print(\"Points for Customer B in the First Week After Joining:\", total_points_customer_B)"
   ]
  },
  {
   "cell_type": "code",
   "execution_count": null,
   "id": "82f9b443",
   "metadata": {},
   "outputs": [],
   "source": []
  },
  {
   "cell_type": "code",
   "execution_count": null,
   "id": "6415c59b",
   "metadata": {},
   "outputs": [],
   "source": []
  },
  {
   "cell_type": "code",
   "execution_count": null,
   "id": "0a28d0da",
   "metadata": {},
   "outputs": [],
   "source": []
  },
  {
   "cell_type": "markdown",
   "id": "e8bac843",
   "metadata": {},
   "source": []
  },
  {
   "cell_type": "markdown",
   "id": "5ae48854",
   "metadata": {},
   "source": []
  },
  {
   "cell_type": "code",
   "execution_count": null,
   "id": "f56aceb5",
   "metadata": {},
   "outputs": [],
   "source": []
  }
 ],
 "metadata": {
  "kernelspec": {
   "display_name": "Python 3 (ipykernel)",
   "language": "python",
   "name": "python3"
  },
  "language_info": {
   "codemirror_mode": {
    "name": "ipython",
    "version": 3
   },
   "file_extension": ".py",
   "mimetype": "text/x-python",
   "name": "python",
   "nbconvert_exporter": "python",
   "pygments_lexer": "ipython3",
   "version": "3.11.5"
  }
 },
 "nbformat": 4,
 "nbformat_minor": 5
}
